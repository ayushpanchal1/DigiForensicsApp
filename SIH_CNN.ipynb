{
  "nbformat": 4,
  "nbformat_minor": 0,
  "metadata": {
    "colab": {
      "provenance": [],
      "gpuType": "T4"
    },
    "kernelspec": {
      "name": "python3",
      "display_name": "Python 3"
    },
    "language_info": {
      "name": "python"
    },
    "accelerator": "GPU"
  },
  "cells": [
    {
      "cell_type": "markdown",
      "source": [
        "Original Malicious Dataset: Malevis (https://web.cs.hacettepe.edu.tr/~selman/malevis/)\n",
        "\n",
        "Original Benign Dataset: https://github.com/iosifache/DikeDataset + https://github.com/ESultanik/bin2png\n",
        "\n",
        "Compiled Dataset:\n",
        "https://drive.google.com/file/d/13TtqaYhAZmyTFawkTu9oGIU8pLDxFchN/view?usp=sharing\n",
        "\n",
        "Trained model (malware_detection_cnn.keras) : https://drive.google.com/file/d/1k-KFuETNG7JT3sXaeSJoM1ouZWJut9Lu/view?usp=sharing"
      ],
      "metadata": {
        "id": "7tSY0OkaCMKK"
      }
    },
    {
      "cell_type": "code",
      "execution_count": null,
      "metadata": {
        "id": "wz5rdFj5nY2K"
      },
      "outputs": [],
      "source": [
        "!pip install tensorflow keras"
      ]
    },
    {
      "cell_type": "code",
      "source": [
        "# !unzip /content/drive/MyDrive/SIH/SIH-CNN-Images.zip"
      ],
      "metadata": {
        "id": "Url8HssDoi3A"
      },
      "execution_count": null,
      "outputs": []
    },
    {
      "cell_type": "code",
      "source": [
        "import tensorflow as tf\n",
        "from tensorflow.keras.preprocessing.image import ImageDataGenerator\n",
        "from tensorflow.keras.preprocessing import image\n",
        "from tensorflow.keras import layers, models\n",
        "import numpy as np"
      ],
      "metadata": {
        "id": "R1CwZX4JpIh6"
      },
      "execution_count": null,
      "outputs": []
    },
    {
      "cell_type": "code",
      "source": [
        "gpus = tf.config.list_physical_devices('GPU')\n",
        "print(f\"Number of GPUs available: {len(gpus)}\")"
      ],
      "metadata": {
        "colab": {
          "base_uri": "https://localhost:8080/"
        },
        "id": "i3rovSCnpVf3",
        "outputId": "d8091dbf-c470-4091-db82-2a31b9f145dc"
      },
      "execution_count": null,
      "outputs": [
        {
          "output_type": "stream",
          "name": "stdout",
          "text": [
            "Number of GPUs available: 1\n"
          ]
        }
      ]
    },
    {
      "cell_type": "code",
      "source": [
        "# Path to the dataset (adjust if needed)\n",
        "dataset_dir = './Dataset'  # Update this path accordingly\n",
        "\n",
        "# Image size and batch size\n",
        "img_size = (128, 128)\n",
        "batch_size = 32"
      ],
      "metadata": {
        "id": "JJBCE8KHpsnC"
      },
      "execution_count": null,
      "outputs": []
    },
    {
      "cell_type": "code",
      "source": [
        "# Image Data Generator (only for training, no validation)\n",
        "train_datagen = ImageDataGenerator(\n",
        "    rescale=1./255,\n",
        "    rotation_range=20,      # Data augmentation\n",
        "    width_shift_range=0.2,  # Data augmentation\n",
        "    height_shift_range=0.2, # Data augmentation\n",
        "    shear_range=0.2,        # Data augmentation\n",
        "    zoom_range=0.2,         # Data augmentation\n",
        "    horizontal_flip=True,   # Data augmentation\n",
        "    fill_mode='nearest'     # Data augmentation\n",
        ")\n",
        "\n",
        "train_generator = train_datagen.flow_from_directory(\n",
        "    dataset_dir,\n",
        "    target_size=img_size,\n",
        "    batch_size=batch_size,\n",
        "    class_mode='binary'\n",
        ")"
      ],
      "metadata": {
        "colab": {
          "base_uri": "https://localhost:8080/"
        },
        "id": "rhKoZoTPo8h_",
        "outputId": "ca8d5f51-e82e-4869-d792-2a22a5649342"
      },
      "execution_count": null,
      "outputs": [
        {
          "output_type": "stream",
          "name": "stdout",
          "text": [
            "Found 6082 images belonging to 2 classes.\n"
          ]
        }
      ]
    },
    {
      "cell_type": "code",
      "source": [
        "# Building the CNN model\n",
        "model = models.Sequential([\n",
        "    layers.Conv2D(32, (3, 3), activation='relu', input_shape=(128, 128, 3)),\n",
        "    layers.MaxPooling2D((2, 2)),\n",
        "\n",
        "    layers.Conv2D(64, (3, 3), activation='relu'),\n",
        "    layers.MaxPooling2D((2, 2)),\n",
        "\n",
        "    layers.Conv2D(128, (3, 3), activation='relu'),\n",
        "    layers.MaxPooling2D((2, 2)),\n",
        "\n",
        "    layers.Flatten(),\n",
        "    layers.Dense(128, activation='relu'),\n",
        "    layers.Dense(1, activation='sigmoid')  # Binary classification\n",
        "])"
      ],
      "metadata": {
        "id": "UeALgbMEpv4Q"
      },
      "execution_count": null,
      "outputs": []
    },
    {
      "cell_type": "code",
      "source": [
        "# Compile the model\n",
        "model.compile(optimizer='adam',\n",
        "              loss='binary_crossentropy',\n",
        "              metrics=['accuracy'])\n",
        "\n",
        "# Training with GPU optimization\n",
        "epochs = 10  # Adjust the number of epochs as needed\n",
        "history = model.fit(train_generator, epochs=epochs)"
      ],
      "metadata": {
        "colab": {
          "base_uri": "https://localhost:8080/"
        },
        "id": "hUDUq7Qwpxc5",
        "outputId": "a1af128a-ea2c-4b45-8efd-1b9e80bb43ce"
      },
      "execution_count": null,
      "outputs": [
        {
          "output_type": "stream",
          "name": "stdout",
          "text": [
            "Epoch 1/10\n"
          ]
        },
        {
          "output_type": "stream",
          "name": "stderr",
          "text": [
            "/usr/local/lib/python3.10/dist-packages/keras/src/trainers/data_adapters/py_dataset_adapter.py:121: UserWarning: Your `PyDataset` class should call `super().__init__(**kwargs)` in its constructor. `**kwargs` can include `workers`, `use_multiprocessing`, `max_queue_size`. Do not pass these arguments to `fit()`, as they will be ignored.\n",
            "  self._warn_if_super_not_called()\n"
          ]
        },
        {
          "output_type": "stream",
          "name": "stdout",
          "text": [
            "\u001b[1m191/191\u001b[0m \u001b[32m━━━━━━━━━━━━━━━━━━━━\u001b[0m\u001b[37m\u001b[0m \u001b[1m45s\u001b[0m 194ms/step - accuracy: 0.8019 - loss: 0.4231\n",
            "Epoch 2/10\n",
            "\u001b[1m191/191\u001b[0m \u001b[32m━━━━━━━━━━━━━━━━━━━━\u001b[0m\u001b[37m\u001b[0m \u001b[1m37s\u001b[0m 184ms/step - accuracy: 0.9251 - loss: 0.1784\n",
            "Epoch 3/10\n",
            "\u001b[1m191/191\u001b[0m \u001b[32m━━━━━━━━━━━━━━━━━━━━\u001b[0m\u001b[37m\u001b[0m \u001b[1m39s\u001b[0m 201ms/step - accuracy: 0.9403 - loss: 0.1396\n",
            "Epoch 4/10\n",
            "\u001b[1m191/191\u001b[0m \u001b[32m━━━━━━━━━━━━━━━━━━━━\u001b[0m\u001b[37m\u001b[0m \u001b[1m37s\u001b[0m 189ms/step - accuracy: 0.9606 - loss: 0.1224\n",
            "Epoch 5/10\n",
            "\u001b[1m191/191\u001b[0m \u001b[32m━━━━━━━━━━━━━━━━━━━━\u001b[0m\u001b[37m\u001b[0m \u001b[1m36s\u001b[0m 183ms/step - accuracy: 0.9640 - loss: 0.0969\n",
            "Epoch 6/10\n",
            "\u001b[1m191/191\u001b[0m \u001b[32m━━━━━━━━━━━━━━━━━━━━\u001b[0m\u001b[37m\u001b[0m \u001b[1m41s\u001b[0m 184ms/step - accuracy: 0.9717 - loss: 0.0661\n",
            "Epoch 7/10\n",
            "\u001b[1m191/191\u001b[0m \u001b[32m━━━━━━━━━━━━━━━━━━━━\u001b[0m\u001b[37m\u001b[0m \u001b[1m38s\u001b[0m 193ms/step - accuracy: 0.9806 - loss: 0.0490\n",
            "Epoch 8/10\n",
            "\u001b[1m191/191\u001b[0m \u001b[32m━━━━━━━━━━━━━━━━━━━━\u001b[0m\u001b[37m\u001b[0m \u001b[1m39s\u001b[0m 195ms/step - accuracy: 0.9748 - loss: 0.0634\n",
            "Epoch 9/10\n",
            "\u001b[1m191/191\u001b[0m \u001b[32m━━━━━━━━━━━━━━━━━━━━\u001b[0m\u001b[37m\u001b[0m \u001b[1m39s\u001b[0m 187ms/step - accuracy: 0.9716 - loss: 0.0704\n",
            "Epoch 10/10\n",
            "\u001b[1m191/191\u001b[0m \u001b[32m━━━━━━━━━━━━━━━━━━━━\u001b[0m\u001b[37m\u001b[0m \u001b[1m37s\u001b[0m 185ms/step - accuracy: 0.9811 - loss: 0.0498\n"
          ]
        }
      ]
    },
    {
      "cell_type": "code",
      "source": [
        "# Save the model after training\n",
        "model.save('/content/drive/MyDrive/SIH/malware_detection_cnn.keras')"
      ],
      "metadata": {
        "id": "oKT2noD-pyiv"
      },
      "execution_count": null,
      "outputs": []
    },
    {
      "cell_type": "code",
      "source": [
        "# img_path = './m3.png'  # Update this path to your image\n",
        "\n",
        "# Load and preprocess the image\n",
        "img = image.load_img(img_path, target_size=(128, 128))  # Ensure target_size matches your model input\n",
        "img_array = image.img_to_array(img)\n",
        "img_array = np.expand_dims(img_array, axis=0)  # Add batch dimension\n",
        "img_array /= 255.0  # Normalize if you used rescale=1./255 in training"
      ],
      "metadata": {
        "id": "AjgQzyYWvPbx"
      },
      "execution_count": null,
      "outputs": []
    },
    {
      "cell_type": "code",
      "source": [
        "# Predict the class of the image\n",
        "predictions = model.predict(img_array)\n",
        "\n",
        "# Print the prediction output\n",
        "print(f\"Predictions: {predictions}\")\n",
        "\n",
        "# Convert prediction to class label\n",
        "class_names = ['benign', 'malicious']  # Update if you have different class names\n",
        "predicted_class = class_names[int(predictions[0] > 0.5)]\n",
        "print(f\"Predicted Class: {predicted_class}\")"
      ],
      "metadata": {
        "colab": {
          "base_uri": "https://localhost:8080/"
        },
        "id": "KRZpxmOivh7l",
        "outputId": "cce1c11c-6def-43c8-bb9a-f6b4504467d6"
      },
      "execution_count": null,
      "outputs": [
        {
          "output_type": "stream",
          "name": "stdout",
          "text": [
            "\u001b[1m1/1\u001b[0m \u001b[32m━━━━━━━━━━━━━━━━━━━━\u001b[0m\u001b[37m\u001b[0m \u001b[1m0s\u001b[0m 17ms/step\n",
            "Predictions: [[6.0150484e-07]]\n",
            "Predicted Class: benign\n"
          ]
        },
        {
          "output_type": "stream",
          "name": "stderr",
          "text": [
            "<ipython-input-42-e1429bd16c2c>:9: DeprecationWarning: Conversion of an array with ndim > 0 to a scalar is deprecated, and will error in future. Ensure you extract a single element from your array before performing this operation. (Deprecated NumPy 1.25.)\n",
            "  predicted_class = class_names[int(predictions[0] > 0.5)]\n"
          ]
        }
      ]
    },
    {
      "cell_type": "code",
      "source": [],
      "metadata": {
        "id": "EIRGa2OjvjGw"
      },
      "execution_count": null,
      "outputs": []
    }
  ]
}